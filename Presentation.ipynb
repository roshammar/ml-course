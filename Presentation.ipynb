{
 "cells": [
  {
   "cell_type": "markdown",
   "metadata": {
    "slideshow": {
     "slide_type": "slide"
    }
   },
   "source": [
    "# Machine Learning\n",
    "# for Structured and Unstructured Data"
   ]
  },
  {
   "cell_type": "markdown",
   "metadata": {
    "slideshow": {
     "slide_type": "subslide"
    }
   },
   "source": [
    "https://github.com/roshammar/ml-course/"
   ]
  },
  {
   "cell_type": "markdown",
   "metadata": {
    "slideshow": {
     "slide_type": "slide"
    }
   },
   "source": [
    "Kristoffer Röshammar\n",
    "\n",
    "*Tenfifty AB*\n",
    "\n",
    "***\n",
    "\n",
    "<table>\n",
    "    <tr>\n",
    "        <td><img src=\"presentation_resources/kid2.jpeg\" width=\"300\"></td>\n",
    "        <td><img src=\"presentation_resources/cat.jpeg\" width=\"300\"></td>\n",
    "        <td><img src=\"presentation_resources/waifu.jpg\" width=\"300\"></td>\n",
    "    </tr>\n",
    "</table>\n",
    "\n",
    "https://www.linkedin.com/in/kristoffer-röshammar-7b69bb16a/\n"
   ]
  },
  {
   "cell_type": "markdown",
   "metadata": {
    "slideshow": {
     "slide_type": "slide"
    }
   },
   "source": [
    "## Before we Start 1 -- Schedule for Today\n",
    "\n",
    "\n",
    "| Start | End | Content |\n",
    "| --- | --- | --- |\n",
    "| 09:00 | 10:30 | Lecture |\n",
    "| 10:30 | 10:45 | Coffe break |\n",
    "| 10:45 | 12:00 | Interactive example |\n",
    "| 12:00 | 13:15 | Lunch break |\n",
    "| 13:15 | 14:30 | Lecture |\n",
    "| 14:30 | 14:45 | Break |\n",
    "| 14:45 | 15:30 | Lab |\n",
    "| 15:30 | 16:00 | Wrap-up |\n"
   ]
  },
  {
   "cell_type": "markdown",
   "metadata": {
    "slideshow": {
     "slide_type": "slide"
    }
   },
   "source": [
    "## Before we Start 2 -- A Quick Poll\n",
    "How many of you have experience of\n",
    "* Programming?\n",
    "* Python?\n",
    "* Jupyter notebooks?\n",
    "* Machine learning?\n",
    "\n",
    "How many of you do ML at work?\n",
    "\n",
    "How many of you know\n",
    "* Why you'd want a *test data set* in addition to a *validation set*?\n",
    "* The difference between *supervised* and *unsupervised* ML?"
   ]
  },
  {
   "cell_type": "markdown",
   "metadata": {
    "slideshow": {
     "slide_type": "slide"
    }
   },
   "source": [
    "## Before we start 3 -- About this course\n",
    "\n",
    "The big picture"
   ]
  },
  {
   "cell_type": "markdown",
   "metadata": {
    "slideshow": {
     "slide_type": "slide"
    }
   },
   "source": [
    "## What is Machine Learning?"
   ]
  },
  {
   "cell_type": "markdown",
   "metadata": {
    "slideshow": {
     "slide_type": "subslide"
    }
   },
   "source": [
    "**Artificial intelligence** is intelligence demonstrated by machines, in contrast to the natural intelligence displayed by humans and other animals. Computer science defines AI research as the study of \"intelligent agents\": any device that perceives its environment and takes actions that maximize its chance of successfully achieving its goals.\n",
    "\n",
    "Fields include knowledge reasoning, planning, natural language processing, computer vision, and **machine learning**."
   ]
  },
  {
   "cell_type": "markdown",
   "metadata": {
    "slideshow": {
     "slide_type": "subslide"
    }
   },
   "source": [
    "**Machine learning** is a sub field of Artificial Intelligence which deals with letting a computer learn on its own, without being explicitly programmed. It uses algorithms and statistical models to discover patterns in data."
   ]
  },
  {
   "cell_type": "markdown",
   "metadata": {
    "slideshow": {
     "slide_type": "slide"
    }
   },
   "source": [
    "## Types of ML\n",
    "* **Supervised** learning\n",
    "\t* Classification\n",
    "\t* Regression\n",
    "* **Unsupervised** learning\n",
    "\t* Clustering\n",
    "\t* Dimensionality reduction\n",
    "\t* Recommendation systems\n",
    "* **Semi-supervised** learning\n",
    "* **Reinforcement** learning"
   ]
  },
  {
   "cell_type": "markdown",
   "metadata": {
    "slideshow": {
     "slide_type": "subslide"
    }
   },
   "source": [
    "### Supervised learning\n",
    "The computer is provided with **training data** containing both input and the corresponding expected output (the correct answer). Hopefully it then **generalises** and can correctly handle examples it has never seen before, with just the input given.\n",
    "\n",
    "It is  a case of learning by example.\n",
    "\n",
    "Two main tasks:\n",
    "* Classification\n",
    "* Regression\n"
   ]
  },
  {
   "cell_type": "markdown",
   "metadata": {
    "slideshow": {
     "slide_type": "subslide"
    }
   },
   "source": [
    "#### Classification\n",
    "In **classification** you want to split the data into different groups, such as *spam* and *not spam* \n",
    "\n",
    "The data can be a list of texts, and for each text a label that says if it is spam or not spam.\n",
    "\n",
    "Another example is a list of images, each with a label that says what the image depicts (a dog, a chair, a tree, etc).\n"
   ]
  },
  {
   "cell_type": "markdown",
   "metadata": {
    "slideshow": {
     "slide_type": "subslide"
    }
   },
   "source": [
    "![](presentation_resources/hotdog.png)"
   ]
  },
  {
   "cell_type": "markdown",
   "metadata": {
    "slideshow": {
     "slide_type": "subslide"
    }
   },
   "source": [
    "#### Regression\n",
    "**Regression** means that you are trying to predict a continuous variable.\n",
    "\n",
    "For example, you could try to predict the selling *price* of houses. You would then need to have access to historical data for a number of houses. For each house you would provide details about number of rooms, location, the year it was built, etc, and finally the selling price."
   ]
  },
  {
   "cell_type": "markdown",
   "metadata": {
    "slideshow": {
     "slide_type": "subslide"
    }
   },
   "source": [
    "### Unsupervised learning\n",
    "In **unsupervised** learning, you don't have examples of expected output, but instead want the computer to automatically find patterns in the data.\n",
    "\n",
    "One example of this is **clustering**, where items that are similar gets grouped together, without you telling the computer what the different groups should be.\n",
    "\n",
    "This leaves the interpretation of the output up to you."
   ]
  },
  {
   "cell_type": "markdown",
   "metadata": {
    "slideshow": {
     "slide_type": "subslide"
    }
   },
   "source": [
    "### Semi-supervised learning\n",
    "* Only have a few labeled examples, and (comparatively) lots of unlabeled data\n",
    "* Computer can still learn patterns from the unlabeled data\n",
    "* Model with low degrees of freedom \n",
    "* Active learning: computer can help you label remaining examples via a continuous feedback loop"
   ]
  },
  {
   "cell_type": "markdown",
   "metadata": {
    "slideshow": {
     "slide_type": "subslide"
    }
   },
   "source": [
    "### Reinforcement learning\n",
    "* Agent that maximises reward\n",
    "* Observes effect of actions\n",
    "* Robotics, game play, resource management, scheduling, planning, chemistry, recommendations, bidding, advertising, ..."
   ]
  },
  {
   "cell_type": "markdown",
   "metadata": {
    "slideshow": {
     "slide_type": "slide"
    }
   },
   "source": [
    " ## Structured vs. Unstructured Data\n",
    "* Structured data\n",
    "\t* Like a spreadsheet, or matrix\n",
    "\t* CSV file format\n",
    "\t* Each row is an observation, each column provides a specific kind of information\n",
    "* Unstructured data\n",
    "\t* Text (documents, email, log files, HTML articles, chat messages), images, sound, video\n",
    "\t* You need to find a way to represent this as numbers that our algorithms can work with"
   ]
  },
  {
   "cell_type": "markdown",
   "metadata": {
    "slideshow": {
     "slide_type": "slide"
    }
   },
   "source": [
    "## Supervised Learning with Structured Data\n",
    "* Prepare data -- get the data ready\n",
    "    * Actually a big step: data scientist\n",
    "* Training -- let the computer learn from the data\n",
    "\t* ML engineer\n",
    "\t* This step tends to be the focus, but the others are equally important!\n",
    "* Evaluation -- see how well the model performed"
   ]
  },
  {
   "cell_type": "markdown",
   "metadata": {
    "slideshow": {
     "slide_type": "subslide"
    }
   },
   "source": [
    "### Preparing data\n",
    "\n",
    "#### How to load a data set\n",
    "* CSV files\n",
    "* Python `csv` module vs Pandas\n",
    "\t* Row oriented vs col oriented\n",
    "\t* Lots of convenience functions\n",
    "\n"
   ]
  },
  {
   "cell_type": "markdown",
   "metadata": {
    "slideshow": {
     "slide_type": "subslide"
    }
   },
   "source": [
    "### Preparing data\n",
    "\n",
    "#### What does a dataset look like *schematically*?\n",
    "\n",
    "![](presentation_resources/dataset.svg)"
   ]
  },
  {
   "cell_type": "markdown",
   "metadata": {
    "slideshow": {
     "slide_type": "subslide"
    }
   },
   "source": [
    "### Preparing data\n",
    "\n",
    "#### Features\n",
    "* Continuous variables\n",
    "* Categorical\n",
    "    * Convert to numbers\n",
    "    * Order may matter\n",
    "\t* One-hot encoding\t\n",
    "* Dates\n",
    "* Missing values\n",
    "* Re-scaling\n"
   ]
  },
  {
   "cell_type": "markdown",
   "metadata": {
    "slideshow": {
     "slide_type": "subslide"
    }
   },
   "source": [
    "### Preparing data\n",
    "\n",
    "#### Split the data\n",
    "\n",
    "* X vs. y\n",
    "* Train, validation, test sets\n",
    "* Remove y from the test set  \n",
    "* Be aware of time series data!      "
   ]
  },
  {
   "cell_type": "markdown",
   "metadata": {
    "slideshow": {
     "slide_type": "subslide"
    }
   },
   "source": [
    "### Training\n",
    "\n",
    "#### Selecting a model\n",
    "\n",
    "* Lots of models to choose from\n",
    "* A handful of models will be all you need in 90% of cases\n",
    "* Deep learning is cool, but don't forget classical ML!\n",
    "* We will come back to these soon"
   ]
  },
  {
   "cell_type": "markdown",
   "metadata": {
    "slideshow": {
     "slide_type": "subslide"
    }
   },
   "source": [
    "### Training\n",
    "\n",
    "#### Training phase\n",
    "\n",
    "* The algorithm typically loops through training dataset a number of iterations, or *epochs*\n",
    "* Each iteration, changes are made to the model\n",
    "* The training stops when the model does not improve any more\n",
    "* How do we measure how good the model is, and how do we meaure when it stops improving?"
   ]
  },
  {
   "cell_type": "markdown",
   "metadata": {
    "slideshow": {
     "slide_type": "subslide"
    }
   },
   "source": [
    "### Evaluation\n",
    "\n",
    "#### How do we measure results?\n",
    "\n",
    "We could just count if the prediction was correct or not.\n",
    "\n",
    "But there are, in fact, four different outcomes for *binary classification* and it matters\n",
    "\n",
    "* True Positive\n",
    "* True Negative\n",
    "* False Positive\n",
    "* False Negative"
   ]
  },
  {
   "cell_type": "markdown",
   "metadata": {
    "slideshow": {
     "slide_type": "subslide"
    }
   },
   "source": [
    "### Evaluation\n",
    "\n",
    "#### How do we measure results?\n",
    "\n",
    "![](presentation_resources/precision_recall.png)"
   ]
  },
  {
   "cell_type": "markdown",
   "metadata": {
    "slideshow": {
     "slide_type": "subslide"
    }
   },
   "source": [
    "### Evaluation\n",
    "\n",
    "#### How do we measure results?\n",
    "\n",
    "$$ recall = \\frac{TP}{P} $$\n",
    "\n",
    "\n",
    "$$ specificity = \\frac{TN}{N} $$\n",
    "\n",
    "\n",
    "$$ precision = \\frac{TP}{TP + FP} $$\n",
    "\n",
    "\n",
    "$$ accuracy = \\frac{TP + TN}{P + N} = \\frac{TP + TN}{TP + TN + FP + FN} $$\n",
    "\n",
    "\n",
    "$$ F1 = \\frac{2 TP}{2 TP + FP + FN} $$"
   ]
  },
  {
   "cell_type": "markdown",
   "metadata": {
    "slideshow": {
     "slide_type": "subslide"
    }
   },
   "source": [
    "### Evaluation\n",
    "\n",
    "#### How do we measure results?\n",
    "\n",
    "No measure is always correct. It is up to you to decide what is important in your case.\n",
    "\n",
    "When would a **FN** be the most problematic outcome?\n",
    "\n",
    "When would a **FP** be the most problematic outcome?"
   ]
  },
  {
   "cell_type": "markdown",
   "metadata": {
    "slideshow": {
     "slide_type": "subslide"
    }
   },
   "source": [
    "**A train carriage containing controlled nuclear materials was stolen in Cincinnati today. Its whereabouts are unknown.**\n",
    "\n",
    "*The incident occurred on the downtown train line, which runs from Covington and Ashland stations.*\n",
    "\n",
    "*In an email to Ohio news outlets, the U.S. Department of Energy said it is working with the Federal Railroad Administration to find the thief.*\n",
    "\n",
    "*“The theft of this nuclear material will have significant negative consequences on public and environmental health, our workforce and the economy of our nation,” said Tom Hicks, the U.S. Energy Secretary, in a statement. “Our top priority is to secure the theft and ensure it doesn’t happen again.”*"
   ]
  },
  {
   "cell_type": "markdown",
   "metadata": {
    "slideshow": {
     "slide_type": "subslide"
    }
   },
   "source": [
    "### Evaluation\n",
    "\n",
    "#### How do we measure results?\n",
    "\n",
    "\n",
    "A more useful classification algorithm does not only output 1 or 0, but rather a probability.\n",
    "\n",
    "Then the above does not work, but you can use something called cross-entropy."
   ]
  },
  {
   "cell_type": "markdown",
   "metadata": {
    "slideshow": {
     "slide_type": "subslide"
    }
   },
   "source": [
    "### Evaluation\n",
    "\n",
    "#### How do we measure results?\n",
    "\n",
    "For multi-class classification, it is important to see if some classes are harder to predict than other.\n",
    "\n",
    "Then, a confusion matrix could be used.\n",
    "\n",
    "![](presentation_resources/confusion_matrix.png)\n"
   ]
  },
  {
   "cell_type": "markdown",
   "metadata": {
    "slideshow": {
     "slide_type": "subslide"
    }
   },
   "source": [
    "### Evaluation\n",
    "\n",
    "#### How do we measure results?\n",
    "\n",
    "ROC\n",
    "\n",
    "![](presentation_resources/roc.png)"
   ]
  },
  {
   "cell_type": "markdown",
   "metadata": {
    "slideshow": {
     "slide_type": "subslide"
    }
   },
   "source": [
    "### Evaluation\n",
    "\n",
    "#### How do we measure results?\n",
    "\n",
    "For regression, you need something else\n",
    "\n",
    "##### Mean Squared Error\n",
    "\n",
    "$$ MSE = \\frac{1}{N}\\sum_{i=1}^{N}{(y_i-\\hat{y}_i)^2} $$\n",
    "\n",
    "\n",
    "##### Root Mean Squared Log Error (RMSLE)\n",
    "\n",
    "\n",
    "$$ RMSLE = \\sqrt{MSE(log(y_i + 1), log(\\hat{y}_i + 1))} $$\n",
    "\n"
   ]
  },
  {
   "cell_type": "markdown",
   "metadata": {
    "slideshow": {
     "slide_type": "subslide"
    }
   },
   "source": [
    "### Evaluation\n",
    "\n",
    "#### Overfitting\n",
    "\n",
    "* So you train and, *wow* you get a perfect result of 0! Done?\n",
    "* Training and validation set\n",
    "* Model complexity and data size\n",
    "* Regularization\n",
    "* Bagging"
   ]
  },
  {
   "cell_type": "markdown",
   "metadata": {
    "slideshow": {
     "slide_type": "subslide"
    }
   },
   "source": [
    "### Evaluation\n",
    "\n",
    "* Hyperparameters\n",
    "* Test set"
   ]
  },
  {
   "cell_type": "markdown",
   "metadata": {
    "slideshow": {
     "slide_type": "slide"
    }
   },
   "source": [
    "## Time for an interactive example!\n",
    "\n",
    "Why Python?"
   ]
  },
  {
   "cell_type": "markdown",
   "metadata": {
    "slideshow": {
     "slide_type": "slide"
    }
   },
   "source": [
    "## Unstructured data\n",
    "\n",
    "\n",
    "* Text (documents, email, log files, HTML articles, chat messages), images, sound, video\n",
    "* You need to find a way to represent this as numbers that our algorithms can work with\n",
    "* Manual feature extraction vs deep learning\n"
   ]
  },
  {
   "cell_type": "markdown",
   "metadata": {
    "slideshow": {
     "slide_type": "subslide"
    }
   },
   "source": [
    "### Text\n",
    "\n",
    "#### Classic NLP pipeline\n",
    "\n",
    "* Tokenization\n",
    "* Lower case\n",
    "* Lemmatize\n",
    "* Stop words\n",
    "* Synonyms - both expand and reduce\n",
    "* Spelling\n",
    "* Ngrams\n",
    "\n"
   ]
  },
  {
   "cell_type": "markdown",
   "metadata": {
    "slideshow": {
     "slide_type": "subslide"
    }
   },
   "source": [
    "#### Then what? How to get to numbers?\n",
    "\n",
    "* Bag-of-words model\n",
    "* What about word order?\n",
    "* Tf-idf\n"
   ]
  },
  {
   "cell_type": "markdown",
   "metadata": {
    "slideshow": {
     "slide_type": "subslide"
    }
   },
   "source": [
    "#### Or, the modern approach\n",
    "\n",
    "* Embeddings\n",
    "* Language models"
   ]
  },
  {
   "cell_type": "markdown",
   "metadata": {
    "slideshow": {
     "slide_type": "subslide"
    }
   },
   "source": [
    "### Images\n",
    "* Deep neural networks\n",
    "* Conv nets"
   ]
  },
  {
   "cell_type": "markdown",
   "metadata": {
    "slideshow": {
     "slide_type": "subslide"
    }
   },
   "source": [
    "### Time series\n",
    "\n",
    "* Regression - translate dates into other features such as `is_weekend`\n",
    "* Casino - translate into features such as moving averages\n",
    "* Prophet - for seasonality\n",
    "\n"
   ]
  },
  {
   "cell_type": "markdown",
   "metadata": {
    "slideshow": {
     "slide_type": "slide"
    }
   },
   "source": [
    "## Lab time!"
   ]
  }
 ],
 "metadata": {
  "celltoolbar": "Slideshow",
  "kernelspec": {
   "display_name": "Python 3",
   "language": "python",
   "name": "python3"
  },
  "language_info": {
   "codemirror_mode": {
    "name": "ipython",
    "version": 3
   },
   "file_extension": ".py",
   "mimetype": "text/x-python",
   "name": "python",
   "nbconvert_exporter": "python",
   "pygments_lexer": "ipython3",
   "version": "3.7.2"
  }
 },
 "nbformat": 4,
 "nbformat_minor": 2
}
